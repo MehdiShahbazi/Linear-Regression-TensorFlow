{
 "cells": [
  {
   "attachments": {},
   "cell_type": "markdown",
   "id": "7e95ec08",
   "metadata": {},
   "source": [
    "<a id=\"ref1\"></a>\n",
    "\n",
    "<h1>Linear Regression</h1>\n",
    "\n",
    "Linear regression is a method to approximate the relationship between variables. In a simple linear regression, there's a dependent variable (what we're trying to predict) and one or more independent variables (factors influencing the dependent variable). It's like finding a straight line that best fits the data points, helping us understand how changes in the independent variables relate to changes in the dependent variable.\n",
    "\n",
    "In the linear regression equation \\($Y = a X + b $\\), \\(Y\\) represents the dependent variable, \\(X\\) is the independent variable, and \\(a\\) and \\(b\\) are parameters we adjust. \\(a\\) is commonly referred to as the \"slope\" or \"gradient,\" while \\(b\\) is the \"intercept.\" This equation can be interpreted as \\(Y\\) being a function of \\(X\\), or more simply, \\(Y\\) depends on \\(X\\).\n",
    "\n"
   ]
  },
  {
   "cell_type": "code",
   "execution_count": 1,
   "id": "e36f4a01",
   "metadata": {},
   "outputs": [],
   "source": [
    "import glob\n",
    "import numpy as np\n",
    "import pandas as pd\n",
    "import tensorflow as tf\n",
    "import matplotlib.pyplot as plt\n",
    "from sklearn.preprocessing import MinMaxScaler"
   ]
  },
  {
   "attachments": {},
   "cell_type": "markdown",
   "id": "13d5c644",
   "metadata": {},
   "source": [
    "We will use a sample dataset, and then we'll use TensorFlow to adjust and get the right parameters. We download a dataset that is related to medical cost personal.\n",
    "Dataset Link: https://www.kaggle.com/datasets/mirichoi0218/insurance"
   ]
  },
  {
   "cell_type": "code",
   "execution_count": 2,
   "id": "512b7c06",
   "metadata": {},
   "outputs": [
    {
     "data": {
      "text/html": [
       "<div>\n",
       "<style scoped>\n",
       "    .dataframe tbody tr th:only-of-type {\n",
       "        vertical-align: middle;\n",
       "    }\n",
       "\n",
       "    .dataframe tbody tr th {\n",
       "        vertical-align: top;\n",
       "    }\n",
       "\n",
       "    .dataframe thead th {\n",
       "        text-align: right;\n",
       "    }\n",
       "</style>\n",
       "<table border=\"1\" class=\"dataframe\">\n",
       "  <thead>\n",
       "    <tr style=\"text-align: right;\">\n",
       "      <th></th>\n",
       "      <th>age</th>\n",
       "      <th>sex</th>\n",
       "      <th>bmi</th>\n",
       "      <th>children</th>\n",
       "      <th>smoker</th>\n",
       "      <th>region</th>\n",
       "      <th>charges</th>\n",
       "    </tr>\n",
       "  </thead>\n",
       "  <tbody>\n",
       "    <tr>\n",
       "      <th>0</th>\n",
       "      <td>19</td>\n",
       "      <td>female</td>\n",
       "      <td>27.900</td>\n",
       "      <td>0</td>\n",
       "      <td>yes</td>\n",
       "      <td>southwest</td>\n",
       "      <td>16884.92400</td>\n",
       "    </tr>\n",
       "    <tr>\n",
       "      <th>1</th>\n",
       "      <td>18</td>\n",
       "      <td>male</td>\n",
       "      <td>33.770</td>\n",
       "      <td>1</td>\n",
       "      <td>no</td>\n",
       "      <td>southeast</td>\n",
       "      <td>1725.55230</td>\n",
       "    </tr>\n",
       "    <tr>\n",
       "      <th>2</th>\n",
       "      <td>28</td>\n",
       "      <td>male</td>\n",
       "      <td>33.000</td>\n",
       "      <td>3</td>\n",
       "      <td>no</td>\n",
       "      <td>southeast</td>\n",
       "      <td>4449.46200</td>\n",
       "    </tr>\n",
       "    <tr>\n",
       "      <th>3</th>\n",
       "      <td>33</td>\n",
       "      <td>male</td>\n",
       "      <td>22.705</td>\n",
       "      <td>0</td>\n",
       "      <td>no</td>\n",
       "      <td>northwest</td>\n",
       "      <td>21984.47061</td>\n",
       "    </tr>\n",
       "    <tr>\n",
       "      <th>4</th>\n",
       "      <td>32</td>\n",
       "      <td>male</td>\n",
       "      <td>28.880</td>\n",
       "      <td>0</td>\n",
       "      <td>no</td>\n",
       "      <td>northwest</td>\n",
       "      <td>3866.85520</td>\n",
       "    </tr>\n",
       "  </tbody>\n",
       "</table>\n",
       "</div>"
      ],
      "text/plain": [
       "   age     sex     bmi  children smoker     region      charges\n",
       "0   19  female  27.900         0    yes  southwest  16884.92400\n",
       "1   18    male  33.770         1     no  southeast   1725.55230\n",
       "2   28    male  33.000         3     no  southeast   4449.46200\n",
       "3   33    male  22.705         0     no  northwest  21984.47061\n",
       "4   32    male  28.880         0     no  northwest   3866.85520"
      ]
     },
     "execution_count": 2,
     "metadata": {},
     "output_type": "execute_result"
    }
   ],
   "source": [
    "data = pd.read_csv(glob.glob(\"*.csv\")[0])\n",
    "data.head()"
   ]
  },
  {
   "attachments": {},
   "cell_type": "markdown",
   "id": "8e350a5d",
   "metadata": {},
   "source": [
    "We want to use linear regression to predict charges of persons based on their bmi factor. Lets define X and Y value for the linear regression, that is, train_x and train_y:"
   ]
  },
  {
   "cell_type": "code",
   "execution_count": 3,
   "id": "c58c5a6d",
   "metadata": {},
   "outputs": [],
   "source": [
    "train_x = data['bmi'].values\n",
    "original_y = data['charges'].values # keep for later plotting\n",
    "train_y = original_y.copy()"
   ]
  },
  {
   "attachments": {},
   "cell_type": "markdown",
   "id": "3c418f23",
   "metadata": {},
   "source": [
    "The values of charges first need to be normalized before proceeding:"
   ]
  },
  {
   "cell_type": "code",
   "execution_count": 4,
   "id": "418c893b",
   "metadata": {},
   "outputs": [],
   "source": [
    "scaler = MinMaxScaler()\n",
    "train_y = scaler.fit_transform(train_y.reshape(-1, 1))"
   ]
  },
  {
   "attachments": {},
   "cell_type": "markdown",
   "id": "afd25f92",
   "metadata": {},
   "source": [
    "Define the model:"
   ]
  },
  {
   "cell_type": "code",
   "execution_count": 5,
   "id": "c64a4410",
   "metadata": {},
   "outputs": [],
   "source": [
    "def model(x):\n",
    "    y = a * x + b\n",
    "    return y"
   ]
  },
  {
   "attachments": {},
   "cell_type": "markdown",
   "id": "8d249809",
   "metadata": {},
   "source": [
    "Define the loss function for regression, which is Mean Square Error (MSE) between actual and predicted values."
   ]
  },
  {
   "cell_type": "code",
   "execution_count": 6,
   "id": "7cf33234",
   "metadata": {},
   "outputs": [],
   "source": [
    "def loss_function(y, predicted_y):\n",
    "    mse = tf.reduce_mean(tf.square(y - predicted_y))\n",
    "    return mse"
   ]
  },
  {
   "attachments": {},
   "cell_type": "markdown",
   "id": "4c758723",
   "metadata": {},
   "source": [
    "We initialize the variables <b>a</b> and <b>b</b>, with random values, later the model will learn the suitable values:\n"
   ]
  },
  {
   "cell_type": "code",
   "execution_count": 7,
   "id": "daac541b",
   "metadata": {},
   "outputs": [],
   "source": [
    "a = tf.Variable(0.001, dtype=tf.float32)\n",
    "b = tf.Variable(0.001, dtype=tf.float32)"
   ]
  },
  {
   "attachments": {},
   "cell_type": "markdown",
   "id": "8ebca843",
   "metadata": {},
   "source": [
    "We are ready to start training. We use GradientTape to calculate gradients:"
   ]
  },
  {
   "cell_type": "code",
   "execution_count": 8,
   "id": "6d5781e1",
   "metadata": {},
   "outputs": [
    {
     "name": "stdout",
     "output_type": "stream",
     "text": [
      "Epoch[10], Loss: 0.039\n",
      "Epoch[20], Loss: 0.039\n",
      "Epoch[30], Loss: 0.039\n"
     ]
    }
   ],
   "source": [
    "learning_rate = 0.0001\n",
    "total_epochs = 30\n",
    "loss_history = []\n",
    "a_values = []\n",
    "b_values = []\n",
    "\n",
    "for epoch in range(1, total_epochs + 1):\n",
    "    with tf.GradientTape() as tape:\n",
    "        predicted_y = model(train_x)\n",
    "        loss = loss_function(train_y, predicted_y)\n",
    "        loss_history.append(loss)\n",
    "        \n",
    "        # Get gradients\n",
    "        gradient = tape.gradient(loss, [a, b])\n",
    "        \n",
    "        a_values.append(a.numpy())\n",
    "        b_values.append(b.numpy())\n",
    "        \n",
    "        a.assign_sub(gradient[0] * learning_rate)\n",
    "        b.assign_sub(gradient[1] * learning_rate)\n",
    "        \n",
    "        if epoch % 10 == 0:\n",
    "            print(f\"Epoch[{epoch}], Loss: {loss:.3f}\")"
   ]
  },
  {
   "attachments": {},
   "cell_type": "markdown",
   "id": "7cc39055",
   "metadata": {},
   "source": [
    "Lets plot the loss values to see how it has changed during the training:"
   ]
  },
  {
   "cell_type": "code",
   "execution_count": 9,
   "id": "6aaf3335",
   "metadata": {},
   "outputs": [
    {
     "data": {
      "image/png": "[encoded data removed]",
      "text/plain": [
       "<Figure size 504x360 with 1 Axes>"
      ]
     },
     "metadata": {
      "needs_background": "light"
     },
     "output_type": "display_data"
    }
   ],
   "source": [
    "plt.figure(figsize=(7, 5))\n",
    "plt.xlabel(\"Epoch\")\n",
    "plt.ylabel(\"Loss\")\n",
    "plt.plot(loss_history, 'orange')\n",
    "plt.show()"
   ]
  },
  {
   "attachments": {},
   "cell_type": "markdown",
   "id": "e70c3eee",
   "metadata": {},
   "source": [
    "When you plot the linear regression model, it appears as a straight line. Adjusting the slope parameter changes the angle between this line and the independent variable axis while adjusting the intercept parameter shifts where the line crosses the dependent variable's axis.\n",
    "\n",
    "The following plot demonstrates how the coefficient and intercept of the line have changed to fit the data. The green dots are the data points, the blue lines are changes based on the a and b coefficients during training, and the orange line is the final line predicted by the model that shows the relationship between the dependent (Charges) and independent (BMI) variables."
   ]
  },
  {
   "cell_type": "code",
   "execution_count": 10,
   "id": "407fd2e4",
   "metadata": {},
   "outputs": [
    {
     "data": {
      "image/png": "[encoded data removed]",
      "text/plain": [
       "<Figure size 432x288 with 1 Axes>"
      ]
     },
     "metadata": {
      "needs_background": "light"
     },
     "output_type": "display_data"
    }
   ],
   "source": [
    "plt.scatter(train_x, train_y, color='#B0ECCD', label='Data')\n",
    "\n",
    "step = 3\n",
    "for i, (a,b) in enumerate((zip(a_values[::step], b_values[::step]))):\n",
    "    plt.plot(train_x, a * train_x + b, color='#295EA4', linewidth=2.3, linestyle='dashed')\n",
    "plt.plot([], [], color='#295EA4', linestyle='dashed', label='Estimates') # for drawing legends\n",
    "    \n",
    "plt.plot(train_x, a_values[-1] * train_x + b_values[-1], color='#EF6031', linewidth=2.8, label='Final')\n",
    "plt.xlabel(\"bmi\")\n",
    "plt.ylabel('Charges')\n",
    "\n",
    "quantiles = np.quantile(original_y, [0, 0.2, 0.4, 0.6, 0.8, 1]).astype(int).astype(str)\n",
    "plt.yticks([0, 0.2, 0.4, 0.6, 0.8, 1], quantiles) # Set custom y-axis tick labels (original values intead of normalized values)\n",
    "plt.legend()\n",
    "\n",
    "plt.savefig('./plot.png', format='png', dpi=600, bbox_inches='tight')\n",
    "plt.tight_layout()\n",
    "\n",
    "plt.show()"
   ]
  },
  {
   "cell_type": "code",
   "execution_count": null,
   "id": "5bd1f650",
   "metadata": {},
   "outputs": [],
   "source": []
  }
 ],
 "metadata": {
  "kernelspec": {
   "display_name": "Python 3 (ipykernel)",
   "language": "python",
   "name": "python3"
  },
  "language_info": {
   "codemirror_mode": {
    "name": "ipython",
    "version": 3
   },
   "file_extension": ".py",
   "mimetype": "text/x-python",
   "name": "python",
   "nbconvert_exporter": "python",
   "pygments_lexer": "ipython3",
   "version": "3.12.2"
  }
 },
 "nbformat": 4,
 "nbformat_minor": 5
}
